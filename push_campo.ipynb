{
 "cells": [
  {
   "cell_type": "code",
   "execution_count": null,
   "metadata": {},
   "outputs": [],
   "source": [
    "\n",
    "import requests # type: ignore\n",
    "from urllib.parse import urljoin\n",
    "import pandas as pd # type: ignore\n",
    "import schedule # type: ignore\n",
    "import time\n",
    "from datetime import datetime, timedelta\n",
    "import os\n",
    "import smtplib\n",
    "from email.mime.multipart import MIMEMultipart\n",
    "from email.mime.text import MIMEText\n",
    "from email.mime.image import MIMEImage\n",
    "from email.mime.base import MIMEBase\n",
    "from email import encoders\n",
    "from dotenv import load_dotenv\n",
    "import re"
   ]
  },
  {
   "cell_type": "code",
   "execution_count": 2,
   "metadata": {},
   "outputs": [],
   "source": [
    "load_dotenv(override=True)\n",
    "api_username = os.getenv('API_USERNAME')\n",
    "api_password = os.getenv('API_PASSWORD')\n",
    "api_url = os.getenv(\"API_URL\")"
   ]
  },
  {
   "cell_type": "code",
   "execution_count": 3,
   "metadata": {},
   "outputs": [],
   "source": [
    "envio_para = os.getenv('ENVIO_PARA')"
   ]
  },
  {
   "cell_type": "code",
   "execution_count": 4,
   "metadata": {},
   "outputs": [],
   "source": [
    "smtp_server = os.getenv(\"EMAIL_SERVER\")\n",
    "email_port = int(os.getenv(\"EMAIL_PORT\"))\n",
    "email_usuario = os.getenv(\"EMAIL_USERNAME\").strip()\n",
    "email_senha = os.getenv(\"EMAIL_PASSWORD\").strip()\n",
    "destinatario_hmcg = os.getenv('DESTINATARIO_HMCG').strip()\n",
    "destinatario_rocio = os.getenv('DESTINATARIO_ROCIO').strip()\n",
    "destinatario_scs = os.getenv('DESTINATARIO_SCS').strip()\n",
    "destinatario_iir = os.getenv('DESTINATARIO_IIR').strip()\n",
    "destinatario_vivi = os.getenv('DESTINATARIO_VIVIANE').strip()\n",
    "destinatario_capibaribe= os.getenv('DESTINATARIO_CAPIBERIBE').strip()"
   ]
  },
  {
   "cell_type": "code",
   "execution_count": 5,
   "metadata": {},
   "outputs": [
    {
     "data": {
      "application/vnd.microsoft.datawrangler.viewer.v0+json": {
       "columns": [
        {
         "name": "index",
         "rawType": "int64",
         "type": "integer"
        },
        {
         "name": "id",
         "rawType": "int64",
         "type": "integer"
        },
        {
         "name": "ds_nome",
         "rawType": "object",
         "type": "string"
        },
        {
         "name": "co_tipo_gn",
         "rawType": "float64",
         "type": "float"
        },
        {
         "name": "co_equipe_gn",
         "rawType": "object",
         "type": "unknown"
        },
        {
         "name": "co_formacao_maior_nivel_gn",
         "rawType": "float64",
         "type": "float"
        },
        {
         "name": "cv_ingles",
         "rawType": "object",
         "type": "unknown"
        },
        {
         "name": "cv_portugues",
         "rawType": "object",
         "type": "unknown"
        },
        {
         "name": "dt_ultimo_certificado_gcp",
         "rawType": "object",
         "type": "unknown"
        },
        {
         "name": "registro_profissional",
         "rawType": "object",
         "type": "unknown"
        },
        {
         "name": "declaracao_confidencialidade",
         "rawType": "object",
         "type": "unknown"
        },
        {
         "name": "custo_mensal_estimado",
         "rawType": "object",
         "type": "unknown"
        },
        {
         "name": "co_centro",
         "rawType": "float64",
         "type": "float"
        },
        {
         "name": "equipe_padrao",
         "rawType": "int64",
         "type": "integer"
        },
        {
         "name": "equipe_padrao_kits",
         "rawType": "float64",
         "type": "float"
        },
        {
         "name": "equipe_padrao_farmacia",
         "rawType": "float64",
         "type": "float"
        },
        {
         "name": "equipe_padrao_naocega",
         "rawType": "float64",
         "type": "float"
        },
        {
         "name": "co_externo",
         "rawType": "object",
         "type": "unknown"
        },
        {
         "name": "dados_co_tipo_gn",
         "rawType": "object",
         "type": "unknown"
        },
        {
         "name": "dados_co_equipe_gn",
         "rawType": "object",
         "type": "unknown"
        },
        {
         "name": "dados_co_formacao_maior_nivel_gn",
         "rawType": "object",
         "type": "unknown"
        },
        {
         "name": "dados_centro",
         "rawType": "object",
         "type": "unknown"
        },
        {
         "name": "dados_pessoa_especialidade",
         "rawType": "object",
         "type": "unknown"
        }
       ],
       "ref": "8f3a06c9-1bfb-4dfa-b5a8-0127a9d0af6f",
       "rows": [
        [
         "0",
         "192",
         "Emerson Aredes",
         "704.0",
         null,
         "31.0",
         null,
         null,
         null,
         "",
         null,
         null,
         null,
         "1",
         "0.0",
         "0.0",
         "0.0",
         null,
         "{'id': 704, 'ds_descricao': 'Suporte TI'}",
         null,
         "{'id': 31, 'ds_descricao': 'Mestrado'}",
         null,
         "[]"
        ],
        [
         "1",
         "196",
         "Kleber Giungi",
         "562.0",
         null,
         null,
         null,
         null,
         null,
         "",
         null,
         null,
         null,
         "1",
         "1.0",
         "1.0",
         "0.0",
         null,
         "{'id': 562, 'ds_descricao': 'Equipe padrão (adicionada automaticamente para todos os protocolos)'}",
         null,
         null,
         null,
         "[]"
        ],
        [
         "2",
         "198",
         "Suporte Polo Trial",
         "664.0",
         null,
         null,
         null,
         null,
         null,
         null,
         null,
         null,
         null,
         "0",
         "0.0",
         "0.0",
         "0.0",
         null,
         "{'id': 664, 'ds_descricao': 'Suporte'}",
         null,
         null,
         null,
         "[]"
        ],
        [
         "3",
         "199",
         "Dra. Caroline Cândida Carvalho de Oliveira",
         "387.0",
         null,
         "30.0",
         null,
         null,
         "2020-09-28",
         "202.285 SP",
         null,
         null,
         "3.0",
         "1",
         "0.0",
         "0.0",
         "0.0",
         null,
         "{'id': 387, 'ds_descricao': 'Pesquisador Principal'}",
         null,
         "{'id': 30, 'ds_descricao': 'Especialização'}",
         "{'id': 3, 'descricao': 'Leforte HMCG'}",
         "[{'id': 3, 'co_pessoa': 199, 'co_pessoa_especialidade': 3, 'dados_especialidade': {'id': 885, 'ds_descricao': 'Cirurgia Vascular'}}]"
        ],
        [
         "4",
         "200",
         "Dra. Tânia Caltabiano",
         "387.0",
         null,
         "29.0",
         null,
         null,
         null,
         "",
         null,
         null,
         "3.0",
         "0",
         "0.0",
         "0.0",
         "0.0",
         null,
         "{'id': 387, 'ds_descricao': 'Pesquisador Principal'}",
         null,
         "{'id': 29, 'ds_descricao': 'Superior completo'}",
         "{'id': 3, 'descricao': 'Leforte HMCG'}",
         "[{'id': 4, 'co_pessoa': 200, 'co_pessoa_especialidade': 4, 'dados_especialidade': {'id': 9213, 'ds_descricao': 'Clinica Médica'}}]"
        ]
       ],
       "shape": {
        "columns": 22,
        "rows": 5
       }
      },
      "text/html": [
       "<div>\n",
       "<style scoped>\n",
       "    .dataframe tbody tr th:only-of-type {\n",
       "        vertical-align: middle;\n",
       "    }\n",
       "\n",
       "    .dataframe tbody tr th {\n",
       "        vertical-align: top;\n",
       "    }\n",
       "\n",
       "    .dataframe thead th {\n",
       "        text-align: right;\n",
       "    }\n",
       "</style>\n",
       "<table border=\"1\" class=\"dataframe\">\n",
       "  <thead>\n",
       "    <tr style=\"text-align: right;\">\n",
       "      <th></th>\n",
       "      <th>id</th>\n",
       "      <th>ds_nome</th>\n",
       "      <th>co_tipo_gn</th>\n",
       "      <th>co_equipe_gn</th>\n",
       "      <th>co_formacao_maior_nivel_gn</th>\n",
       "      <th>cv_ingles</th>\n",
       "      <th>cv_portugues</th>\n",
       "      <th>dt_ultimo_certificado_gcp</th>\n",
       "      <th>registro_profissional</th>\n",
       "      <th>declaracao_confidencialidade</th>\n",
       "      <th>...</th>\n",
       "      <th>equipe_padrao</th>\n",
       "      <th>equipe_padrao_kits</th>\n",
       "      <th>equipe_padrao_farmacia</th>\n",
       "      <th>equipe_padrao_naocega</th>\n",
       "      <th>co_externo</th>\n",
       "      <th>dados_co_tipo_gn</th>\n",
       "      <th>dados_co_equipe_gn</th>\n",
       "      <th>dados_co_formacao_maior_nivel_gn</th>\n",
       "      <th>dados_centro</th>\n",
       "      <th>dados_pessoa_especialidade</th>\n",
       "    </tr>\n",
       "  </thead>\n",
       "  <tbody>\n",
       "    <tr>\n",
       "      <th>0</th>\n",
       "      <td>192</td>\n",
       "      <td>Emerson Aredes</td>\n",
       "      <td>704.0</td>\n",
       "      <td>None</td>\n",
       "      <td>31.0</td>\n",
       "      <td>None</td>\n",
       "      <td>None</td>\n",
       "      <td>None</td>\n",
       "      <td></td>\n",
       "      <td>None</td>\n",
       "      <td>...</td>\n",
       "      <td>1</td>\n",
       "      <td>0.0</td>\n",
       "      <td>0.0</td>\n",
       "      <td>0.0</td>\n",
       "      <td>None</td>\n",
       "      <td>{'id': 704, 'ds_descricao': 'Suporte TI'}</td>\n",
       "      <td>None</td>\n",
       "      <td>{'id': 31, 'ds_descricao': 'Mestrado'}</td>\n",
       "      <td>None</td>\n",
       "      <td>[]</td>\n",
       "    </tr>\n",
       "    <tr>\n",
       "      <th>1</th>\n",
       "      <td>196</td>\n",
       "      <td>Kleber Giungi</td>\n",
       "      <td>562.0</td>\n",
       "      <td>None</td>\n",
       "      <td>NaN</td>\n",
       "      <td>None</td>\n",
       "      <td>None</td>\n",
       "      <td>None</td>\n",
       "      <td></td>\n",
       "      <td>None</td>\n",
       "      <td>...</td>\n",
       "      <td>1</td>\n",
       "      <td>1.0</td>\n",
       "      <td>1.0</td>\n",
       "      <td>0.0</td>\n",
       "      <td>None</td>\n",
       "      <td>{'id': 562, 'ds_descricao': 'Equipe padrão (ad...</td>\n",
       "      <td>None</td>\n",
       "      <td>None</td>\n",
       "      <td>None</td>\n",
       "      <td>[]</td>\n",
       "    </tr>\n",
       "    <tr>\n",
       "      <th>2</th>\n",
       "      <td>198</td>\n",
       "      <td>Suporte Polo Trial</td>\n",
       "      <td>664.0</td>\n",
       "      <td>None</td>\n",
       "      <td>NaN</td>\n",
       "      <td>None</td>\n",
       "      <td>None</td>\n",
       "      <td>None</td>\n",
       "      <td>None</td>\n",
       "      <td>None</td>\n",
       "      <td>...</td>\n",
       "      <td>0</td>\n",
       "      <td>0.0</td>\n",
       "      <td>0.0</td>\n",
       "      <td>0.0</td>\n",
       "      <td>None</td>\n",
       "      <td>{'id': 664, 'ds_descricao': 'Suporte'}</td>\n",
       "      <td>None</td>\n",
       "      <td>None</td>\n",
       "      <td>None</td>\n",
       "      <td>[]</td>\n",
       "    </tr>\n",
       "    <tr>\n",
       "      <th>3</th>\n",
       "      <td>199</td>\n",
       "      <td>Dra. Caroline Cândida Carvalho de Oliveira</td>\n",
       "      <td>387.0</td>\n",
       "      <td>None</td>\n",
       "      <td>30.0</td>\n",
       "      <td>None</td>\n",
       "      <td>None</td>\n",
       "      <td>2020-09-28</td>\n",
       "      <td>202.285 SP</td>\n",
       "      <td>None</td>\n",
       "      <td>...</td>\n",
       "      <td>1</td>\n",
       "      <td>0.0</td>\n",
       "      <td>0.0</td>\n",
       "      <td>0.0</td>\n",
       "      <td>None</td>\n",
       "      <td>{'id': 387, 'ds_descricao': 'Pesquisador Princ...</td>\n",
       "      <td>None</td>\n",
       "      <td>{'id': 30, 'ds_descricao': 'Especialização'}</td>\n",
       "      <td>{'id': 3, 'descricao': 'Leforte HMCG'}</td>\n",
       "      <td>[{'id': 3, 'co_pessoa': 199, 'co_pessoa_especi...</td>\n",
       "    </tr>\n",
       "    <tr>\n",
       "      <th>4</th>\n",
       "      <td>200</td>\n",
       "      <td>Dra. Tânia Caltabiano</td>\n",
       "      <td>387.0</td>\n",
       "      <td>None</td>\n",
       "      <td>29.0</td>\n",
       "      <td>None</td>\n",
       "      <td>None</td>\n",
       "      <td>None</td>\n",
       "      <td></td>\n",
       "      <td>None</td>\n",
       "      <td>...</td>\n",
       "      <td>0</td>\n",
       "      <td>0.0</td>\n",
       "      <td>0.0</td>\n",
       "      <td>0.0</td>\n",
       "      <td>None</td>\n",
       "      <td>{'id': 387, 'ds_descricao': 'Pesquisador Princ...</td>\n",
       "      <td>None</td>\n",
       "      <td>{'id': 29, 'ds_descricao': 'Superior completo'}</td>\n",
       "      <td>{'id': 3, 'descricao': 'Leforte HMCG'}</td>\n",
       "      <td>[{'id': 4, 'co_pessoa': 200, 'co_pessoa_especi...</td>\n",
       "    </tr>\n",
       "  </tbody>\n",
       "</table>\n",
       "<p>5 rows × 22 columns</p>\n",
       "</div>"
      ],
      "text/plain": [
       "    id                                     ds_nome  co_tipo_gn co_equipe_gn  \\\n",
       "0  192                              Emerson Aredes       704.0         None   \n",
       "1  196                               Kleber Giungi       562.0         None   \n",
       "2  198                          Suporte Polo Trial       664.0         None   \n",
       "3  199  Dra. Caroline Cândida Carvalho de Oliveira       387.0         None   \n",
       "4  200                       Dra. Tânia Caltabiano       387.0         None   \n",
       "\n",
       "   co_formacao_maior_nivel_gn cv_ingles cv_portugues  \\\n",
       "0                        31.0      None         None   \n",
       "1                         NaN      None         None   \n",
       "2                         NaN      None         None   \n",
       "3                        30.0      None         None   \n",
       "4                        29.0      None         None   \n",
       "\n",
       "  dt_ultimo_certificado_gcp registro_profissional  \\\n",
       "0                      None                         \n",
       "1                      None                         \n",
       "2                      None                  None   \n",
       "3                2020-09-28            202.285 SP   \n",
       "4                      None                         \n",
       "\n",
       "  declaracao_confidencialidade  ... equipe_padrao  equipe_padrao_kits  \\\n",
       "0                         None  ...             1                 0.0   \n",
       "1                         None  ...             1                 1.0   \n",
       "2                         None  ...             0                 0.0   \n",
       "3                         None  ...             1                 0.0   \n",
       "4                         None  ...             0                 0.0   \n",
       "\n",
       "   equipe_padrao_farmacia  equipe_padrao_naocega  co_externo  \\\n",
       "0                     0.0                    0.0        None   \n",
       "1                     1.0                    0.0        None   \n",
       "2                     0.0                    0.0        None   \n",
       "3                     0.0                    0.0        None   \n",
       "4                     0.0                    0.0        None   \n",
       "\n",
       "                                    dados_co_tipo_gn dados_co_equipe_gn  \\\n",
       "0          {'id': 704, 'ds_descricao': 'Suporte TI'}               None   \n",
       "1  {'id': 562, 'ds_descricao': 'Equipe padrão (ad...               None   \n",
       "2             {'id': 664, 'ds_descricao': 'Suporte'}               None   \n",
       "3  {'id': 387, 'ds_descricao': 'Pesquisador Princ...               None   \n",
       "4  {'id': 387, 'ds_descricao': 'Pesquisador Princ...               None   \n",
       "\n",
       "                  dados_co_formacao_maior_nivel_gn  \\\n",
       "0           {'id': 31, 'ds_descricao': 'Mestrado'}   \n",
       "1                                             None   \n",
       "2                                             None   \n",
       "3     {'id': 30, 'ds_descricao': 'Especialização'}   \n",
       "4  {'id': 29, 'ds_descricao': 'Superior completo'}   \n",
       "\n",
       "                             dados_centro  \\\n",
       "0                                    None   \n",
       "1                                    None   \n",
       "2                                    None   \n",
       "3  {'id': 3, 'descricao': 'Leforte HMCG'}   \n",
       "4  {'id': 3, 'descricao': 'Leforte HMCG'}   \n",
       "\n",
       "                          dados_pessoa_especialidade  \n",
       "0                                                 []  \n",
       "1                                                 []  \n",
       "2                                                 []  \n",
       "3  [{'id': 3, 'co_pessoa': 199, 'co_pessoa_especi...  \n",
       "4  [{'id': 4, 'co_pessoa': 200, 'co_pessoa_especi...  \n",
       "\n",
       "[5 rows x 22 columns]"
      ]
     },
     "execution_count": 5,
     "metadata": {},
     "output_type": "execute_result"
    }
   ],
   "source": [
    "auth_url = urljoin(api_url, \"/sessions\")\n",
    "body = {\n",
    "    \"nome\": api_username,\n",
    "    \"password\":api_password\n",
    "}\n",
    "\n",
    "response = requests.post(auth_url, json=body)\n",
    "token = response.json()[\"token\"]\n",
    "auth_token = \"Bearer \" + token\n",
    "\n",
    "# Requisição para obter os dados do Pessoas\n",
    "pessoas_url = urljoin(api_url, \"/pessoas?nested=true\")\n",
    "headers = {\"Authorization\": auth_token}\n",
    "\n",
    "response = requests.get(pessoas_url, headers=headers)\n",
    "pessoas = response.json()\n",
    "pessoas = pd.DataFrame(pessoas)\n",
    "\n",
    "pessoas.head(5)"
   ]
  },
  {
   "cell_type": "code",
   "execution_count": 6,
   "metadata": {},
   "outputs": [
    {
     "data": {
      "application/vnd.microsoft.datawrangler.viewer.v0+json": {
       "columns": [
        {
         "name": "index",
         "rawType": "int64",
         "type": "integer"
        },
        {
         "name": "id",
         "rawType": "int64",
         "type": "integer"
        },
        {
         "name": "titulo_protocolo",
         "rawType": "object",
         "type": "string"
        },
        {
         "name": "cor_agenda",
         "rawType": "object",
         "type": "string"
        },
        {
         "name": "numero_protocolo",
         "rawType": "object",
         "type": "string"
        },
        {
         "name": "apelido_protocolo",
         "rawType": "object",
         "type": "string"
        },
        {
         "name": "coordenador",
         "rawType": "float64",
         "type": "float"
        },
        {
         "name": "pi",
         "rawType": "float64",
         "type": "float"
        },
        {
         "name": "pesquisador_backup",
         "rawType": "float64",
         "type": "float"
        },
        {
         "name": "co_pessoa_regulatorio",
         "rawType": "float64",
         "type": "float"
        },
        {
         "name": "data_cadastro",
         "rawType": "object",
         "type": "string"
        },
        {
         "name": "fase_da_pesquisa",
         "rawType": "float64",
         "type": "float"
        },
        {
         "name": "status_protocolo",
         "rawType": "int64",
         "type": "integer"
        },
        {
         "name": "tipo_de_iniciativa",
         "rawType": "float64",
         "type": "float"
        },
        {
         "name": "patrocinador",
         "rawType": "float64",
         "type": "float"
        },
        {
         "name": "cro_responsavel",
         "rawType": "object",
         "type": "string"
        },
        {
         "name": "cro_contatos",
         "rawType": "object",
         "type": "string"
        },
        {
         "name": "tipo_de_estudo",
         "rawType": "float64",
         "type": "float"
        },
        {
         "name": "especialidade",
         "rawType": "float64",
         "type": "float"
        },
        {
         "name": "uso_do_produto_investigacional",
         "rawType": "float64",
         "type": "float"
        },
        {
         "name": "doenca",
         "rawType": "object",
         "type": "string"
        },
        {
         "name": "intervencao",
         "rawType": "object",
         "type": "string"
        },
        {
         "name": "desfecho",
         "rawType": "object",
         "type": "string"
        },
        {
         "name": "data_visita_selecao",
         "rawType": "object",
         "type": "unknown"
        },
        {
         "name": "data_estimada_inicio",
         "rawType": "object",
         "type": "string"
        },
        {
         "name": "data_finalizacao_esperada",
         "rawType": "object",
         "type": "string"
        },
        {
         "name": "meta_inclusao",
         "rawType": "float64",
         "type": "float"
        },
        {
         "name": "meta_inclusao_atual",
         "rawType": "float64",
         "type": "float"
        },
        {
         "name": "data_inicio_recrutamento",
         "rawType": "object",
         "type": "string"
        },
        {
         "name": "data_fim_recrutamento",
         "rawType": "object",
         "type": "string"
        },
        {
         "name": "numero_identificacao_centro_estudo",
         "rawType": "object",
         "type": "string"
        },
        {
         "name": "centro_coordenador",
         "rawType": "float64",
         "type": "float"
        },
        {
         "name": "nome_centro_coordenador",
         "rawType": "object",
         "type": "string"
        },
        {
         "name": "qtd_centros_participantes",
         "rawType": "float64",
         "type": "float"
        },
        {
         "name": "aprovacao_anvisa",
         "rawType": "float64",
         "type": "float"
        },
        {
         "name": "aprovacao_anvisa_data",
         "rawType": "object",
         "type": "unknown"
        },
        {
         "name": "aprovacao_conep",
         "rawType": "float64",
         "type": "float"
        },
        {
         "name": "aprovacao_conep_data",
         "rawType": "object",
         "type": "string"
        },
        {
         "name": "aprovacao_cep",
         "rawType": "float64",
         "type": "float"
        },
        {
         "name": "aprovacao_cep_data",
         "rawType": "object",
         "type": "string"
        },
        {
         "name": "data_ativacao_centro",
         "rawType": "object",
         "type": "unknown"
        },
        {
         "name": "data_recebimento_feasibility",
         "rawType": "object",
         "type": "string"
        },
        {
         "name": "data_resposta_feasibility",
         "rawType": "object",
         "type": "string"
        },
        {
         "name": "data_aprovacao_patrocinador",
         "rawType": "object",
         "type": "unknown"
        },
        {
         "name": "data_recebimento_contrato",
         "rawType": "object",
         "type": "string"
        },
        {
         "name": "data_resposta_contrato",
         "rawType": "object",
         "type": "string"
        },
        {
         "name": "data_aprovacao_contrato",
         "rawType": "object",
         "type": "string"
        },
        {
         "name": "data_recebimento_orcamento",
         "rawType": "object",
         "type": "string"
        },
        {
         "name": "data_resposta_orcamento",
         "rawType": "object",
         "type": "string"
        },
        {
         "name": "data_aprovacao_orcamento",
         "rawType": "object",
         "type": "string"
        },
        {
         "name": "data_recebimento_pacote",
         "rawType": "object",
         "type": "unknown"
        },
        {
         "name": "data_submissao_regulatorio",
         "rawType": "object",
         "type": "unknown"
        },
        {
         "name": "data_aprovacao_regulatorio",
         "rawType": "object",
         "type": "string"
        },
        {
         "name": "data_envio_feasibility",
         "rawType": "object",
         "type": "unknown"
        },
        {
         "name": "local_atendimento",
         "rawType": "object",
         "type": "unknown"
        },
        {
         "name": "produto_investigacional",
         "rawType": "object",
         "type": "unknown"
        },
        {
         "name": "medicamento_do_estudo",
         "rawType": "object",
         "type": "unknown"
        },
        {
         "name": "pendencias_regulatorio",
         "rawType": "float64",
         "type": "float"
        },
        {
         "name": "data_primeira_inclusao",
         "rawType": "object",
         "type": "unknown"
        },
        {
         "name": "data_fim_protocolo",
         "rawType": "object",
         "type": "string"
        },
        {
         "name": "status_feasibility",
         "rawType": "float64",
         "type": "float"
        },
        {
         "name": "status_contrato",
         "rawType": "float64",
         "type": "float"
        },
        {
         "name": "status_orcamento",
         "rawType": "float64",
         "type": "float"
        },
        {
         "name": "status_regulatorio",
         "rawType": "float64",
         "type": "float"
        },
        {
         "name": "status_recrutamento",
         "rawType": "float64",
         "type": "float"
        },
        {
         "name": "status_financeiro",
         "rawType": "float64",
         "type": "float"
        },
        {
         "name": "observacoes_feasibility",
         "rawType": "object",
         "type": "string"
        },
        {
         "name": "observacoes_contrato",
         "rawType": "object",
         "type": "unknown"
        },
        {
         "name": "observacoes_orcamento",
         "rawType": "object",
         "type": "string"
        },
        {
         "name": "observacoes_regulatorio",
         "rawType": "object",
         "type": "unknown"
        },
        {
         "name": "observacoes_recrutamento",
         "rawType": "object",
         "type": "unknown"
        },
        {
         "name": "observacoes_financeiro",
         "rawType": "object",
         "type": "unknown"
        },
        {
         "name": "assistente_de_pesquisa",
         "rawType": "float64",
         "type": "float"
        },
        {
         "name": "observacoes",
         "rawType": "object",
         "type": "unknown"
        },
        {
         "name": "moeda",
         "rawType": "object",
         "type": "unknown"
        },
        {
         "name": "co_centro",
         "rawType": "float64",
         "type": "float"
        },
        {
         "name": "co_externo",
         "rawType": "object",
         "type": "string"
        },
        {
         "name": "n_inclusoes_validas",
         "rawType": "object",
         "type": "unknown"
        },
        {
         "name": "nu_meta_inclusao",
         "rawType": "float64",
         "type": "float"
        },
        {
         "name": "inclusao_de_participante",
         "rawType": "float64",
         "type": "float"
        },
        {
         "name": "n_participantes_ativos",
         "rawType": "object",
         "type": "unknown"
        },
        {
         "name": "n_participantes_falha_de_selecao",
         "rawType": "object",
         "type": "unknown"
        },
        {
         "name": "apelido_centro",
         "rawType": "object",
         "type": "string"
        },
        {
         "name": "centro_de_custos",
         "rawType": "object",
         "type": "unknown"
        },
        {
         "name": "data_assinatura_contrato",
         "rawType": "object",
         "type": "unknown"
        },
        {
         "name": "data_ultima_atualizacao",
         "rawType": "object",
         "type": "unknown"
        },
        {
         "name": "falhas",
         "rawType": "object",
         "type": "string"
        },
        {
         "name": "inclusoes",
         "rawType": "object",
         "type": "string"
        },
        {
         "name": "participantes_incluidos",
         "rawType": "float64",
         "type": "float"
        },
        {
         "name": "percentual_dias",
         "rawType": "object",
         "type": "string"
        },
        {
         "name": "percentual_inclusao",
         "rawType": "object",
         "type": "string"
        },
        {
         "name": "periodo_estimado_pesquisa",
         "rawType": "object",
         "type": "unknown"
        },
        {
         "name": "prazo_resposta_feasibility",
         "rawType": "object",
         "type": "unknown"
        },
        {
         "name": "total_participantes",
         "rawType": "int64",
         "type": "integer"
        },
        {
         "name": "projeto",
         "rawType": "object",
         "type": "unknown"
        },
        {
         "name": "data_recebimento_convite",
         "rawType": "object",
         "type": "unknown"
        },
        {
         "name": "data_recebimento_cda",
         "rawType": "object",
         "type": "unknown"
        },
        {
         "name": "data_close_out",
         "rawType": "object",
         "type": "unknown"
        },
        {
         "name": "data_siv",
         "rawType": "object",
         "type": "unknown"
        },
        {
         "name": "dificuldade_recrutamento",
         "rawType": "float64",
         "type": "float"
        },
        {
         "name": "dados_coordenador",
         "rawType": "object",
         "type": "unknown"
        },
        {
         "name": "dados_pi",
         "rawType": "object",
         "type": "unknown"
        },
        {
         "name": "dados_pesquisador_backup",
         "rawType": "object",
         "type": "unknown"
        },
        {
         "name": "dados_co_pessoa_regulatorio",
         "rawType": "object",
         "type": "unknown"
        },
        {
         "name": "dados_fase_da_pesquisa",
         "rawType": "object",
         "type": "unknown"
        },
        {
         "name": "dados_status_protocolo",
         "rawType": "object",
         "type": "unknown"
        },
        {
         "name": "dados_tipo_de_iniciativa",
         "rawType": "object",
         "type": "unknown"
        },
        {
         "name": "dados_patrocinador",
         "rawType": "object",
         "type": "unknown"
        },
        {
         "name": "dados_cro_responsavel",
         "rawType": "object",
         "type": "unknown"
        },
        {
         "name": "dados_tipo_de_estudo",
         "rawType": "object",
         "type": "unknown"
        },
        {
         "name": "dados_especialidade",
         "rawType": "object",
         "type": "unknown"
        },
        {
         "name": "dados_uso_do_produto_investigacional",
         "rawType": "object",
         "type": "unknown"
        },
        {
         "name": "dados_centro_coordenador",
         "rawType": "object",
         "type": "unknown"
        },
        {
         "name": "dados_aprovacao_anvisa",
         "rawType": "object",
         "type": "unknown"
        },
        {
         "name": "dados_aprovacao_conep",
         "rawType": "object",
         "type": "unknown"
        },
        {
         "name": "dados_aprovacao_cep",
         "rawType": "object",
         "type": "unknown"
        },
        {
         "name": "dados_co_centro",
         "rawType": "object",
         "type": "unknown"
        },
        {
         "name": "PessoaPI",
         "rawType": "object",
         "type": "unknown"
        },
        {
         "name": "PessoaCoordenador",
         "rawType": "object",
         "type": "unknown"
        },
        {
         "name": "PessoaPesquisador",
         "rawType": "object",
         "type": "unknown"
        },
        {
         "name": "PessoaRegulatorio",
         "rawType": "object",
         "type": "unknown"
        },
        {
         "name": "fase_pesquisa",
         "rawType": "object",
         "type": "unknown"
        },
        {
         "name": "status",
         "rawType": "object",
         "type": "unknown"
        },
        {
         "name": "tipo_iniciativa",
         "rawType": "object",
         "type": "unknown"
        },
        {
         "name": "nome_patrocinador",
         "rawType": "object",
         "type": "unknown"
        }
       ],
       "ref": "0d189521-3612-49b6-9dea-32bee552ac34",
       "rows": [
        [
         "0",
         "4",
         "ENSAIO CLÍNICO FASE 2, RANDOMIZADO, DUPLO-CEGO,  PLACEBO-CONTROLADO PARA AVALIAR A SEGURANÇA E  EFICÁCIA DO STI-5656 (MALEATO DE ABIVERTINIB) EM  PARTICIPANTES HOSPITALIZADOS DEVIDO À COVID-19 ",
         "#330eb9",
         "BTK-COV-202BR",
         "BTK",
         "261.0",
         "306.0",
         "210.0",
         "214.0",
         "2021-04-05T18:37:50.000Z",
         "123.0",
         "296",
         "506.0",
         "723.0",
         "748",
         "maria.souza@synovahealth.com",
         "154.0",
         "315.0",
         "136.0",
         "COVID-19",
         "MALEATO DE ABIVERTINIB",
         "Tratamento da Covid-19",
         null,
         "2020-12-28T00:00:00.000Z",
         "2021-12-30T00:00:00.000Z",
         "1.0",
         null,
         "2021-01-01T00:00:00.000Z",
         "2021-12-30",
         "",
         "379.0",
         "",
         "13.0",
         "60.0",
         null,
         "60.0",
         "2020-12-10",
         "60.0",
         "2021-11-17",
         null,
         "2020-09-02",
         "2020-09-17",
         null,
         "2021-02-10",
         "2021-02-10",
         "2021-02-18",
         "2021-02-04",
         "2021-02-04",
         "2021-02-04",
         null,
         null,
         "2020-12-10",
         null,
         null,
         null,
         null,
         null,
         null,
         "2022-01-01",
         "824.0",
         "908.0",
         "877.0",
         "914.0",
         null,
         null,
         "DATA: 13.10.23 | | | Data de recebimento e de resposta do feasibility inseridas em 13/10 após verificação de histórico de e-mails com Leandro.  Motivo: informar dado mais fidedigno para uso em métricas do projeto Cards Médicos solicitado ao time de BI pelo Leandro. | KARINA | | | \\",
         null,
         "Por motivos de atualização consideramos dados de assinatura baseado em dados contratuais",
         null,
         null,
         null,
         null,
         "21.03 - CRO informa que estudo está em ON-HOLD: sponsor está passando por uma reestruturação interna e readequação de budget e devido a isso irão parar, momentaneamente, com a inserção de novos centros para desenvolvimento do projeto. / KARINA (21.03)",
         null,
         "3.0",
         "BTK-COV-202BR",
         null,
         "1.0",
         null,
         null,
         null,
         "BTK - Leforte HMCG",
         null,
         null,
         null,
         "0",
         "59",
         "71.0",
         "4.6839",
         "59.0000",
         null,
         null,
         "71",
         null,
         null,
         null,
         null,
         null,
         null,
         "{'id': 261, 'ds_nome': 'Giovana Rosas'}",
         "{'id': 306, 'ds_nome': 'Dr. Carlos Augusto Quadros'}",
         null,
         "{'id': 214, 'ds_nome': 'Priscila do Prado Costa'}",
         "{'id': 123, 'ds_descricao': 'Fase III'}",
         "{'id': 296, 'ds_descricao': 'Concluído'}",
         "{'id': 506, 'ds_descricao': 'Patrocinador'}",
         "{'id': 723, 'ds_descricao': 'Sorrento Therapeutics, Inc.'}",
         "{'id': 748, 'ds_descricao': 'Synova'}",
         "{'id': 154, 'ds_descricao': 'Experimental'}",
         "{'id': 315, 'ds_descricao': 'Infectologia'}",
         "{'id': 136, 'ds_descricao': 'Oral'}",
         "{'id': 379, 'ds_descricao': 'Sim'}",
         "{'id': 60, 'ds_descricao': 'Sim'}",
         "{'id': 60, 'ds_descricao': 'Sim'}",
         "{'id': 60, 'ds_descricao': 'Sim'}",
         "{'id': 3, 'descricao': 'Leforte HMCG'}",
         "{'id': 306, 'ds_nome': 'Dr. Carlos Augusto Quadros'}",
         "{'id': 261, 'ds_nome': 'Giovana Rosas'}",
         null,
         "{'id': 214, 'ds_nome': 'Priscila do Prado Costa'}",
         "{'id': 123, 'ds_descricao': 'Fase III'}",
         "{'id': 296, 'ds_descricao': 'Concluído'}",
         "{'id': 506, 'ds_descricao': 'Patrocinador'}",
         "{'id': 723, 'ds_descricao': 'Sorrento Therapeutics, Inc.'}"
        ],
        [
         "1",
         "5",
         "ENSAIO CLÍNICO FASE 2, RANDOMIZADO, DUPLO-CEGO,  PLACEBO-CONTROLADO PARA AVALIAR A SEGURANÇA E  EFICÁCIA DO STI-5656 (MALEATO DE ABIVERTINIB) EM  PARTICIPANTES HOSPITALIZADOS DEVIDO À COVID-19 ",
         "#330eb9",
         "BTK-COV-202BR",
         "BTK",
         "310.0",
         "199.0",
         "227.0",
         "214.0",
         "2021-07-07T12:28:33.000Z",
         "122.0",
         "296",
         "506.0",
         "723.0",
         "748",
         "maria.souza@synovahealth.com",
         "154.0",
         "315.0",
         "136.0",
         "Covid 19",
         "MALEATO DE ABIVERTINIB",
         "Tratamento da Covid-19",
         null,
         "2021-05-24T00:00:00.000Z",
         "2021-12-30T00:00:00.000Z",
         "1.0",
         null,
         "2021-05-25T00:00:00.000Z",
         "2021-12-30",
         "",
         "380.0",
         "",
         "13.0",
         "60.0",
         null,
         "60.0",
         "2021-01-30",
         "60.0",
         "2021-03-08",
         null,
         "2020-09-02",
         "2020-09-17",
         null,
         "2021-02-20",
         "2021-03-08",
         "2021-03-08",
         "2021-02-04",
         "2021-02-04",
         "2021-02-04",
         null,
         null,
         "2021-03-08",
         null,
         null,
         null,
         null,
         null,
         null,
         "2022-01-01",
         "824.0",
         "908.0",
         "877.0",
         "914.0",
         null,
         null,
         "DATA: 13.10.23 | | | Data de recebimento e de resposta do feasibility inseridas em 13/10 após verificação de histórico de e-mails com Leandro.  Motivo: informar dado mais fidedigno para uso em métricas do projeto Cards Médicos solicitado ao time de BI pelo Leandro. | KARINA | | | \\",
         null,
         "Por motivos de atualização consideramos dados de assinatura baseado em dados contratuais",
         null,
         null,
         null,
         null,
         null,
         null,
         "2.0",
         "BTK-COV-202BR",
         null,
         "1.0",
         null,
         null,
         null,
         "BTK - Leforte Liberdade",
         null,
         null,
         null,
         "0",
         "12",
         "15.0",
         "7.1591",
         "12.0000",
         null,
         null,
         "15",
         null,
         null,
         null,
         null,
         null,
         null,
         "{'id': 310, 'ds_nome': 'Isabel Cristina dos Santos'}",
         "{'id': 199, 'ds_nome': 'Dra. Caroline Cândida Carvalho de Oliveira'}",
         "{'id': 227, 'ds_nome': 'Viviane Santana da Silva'}",
         "{'id': 214, 'ds_nome': 'Priscila do Prado Costa'}",
         "{'id': 122, 'ds_descricao': 'Fase II'}",
         "{'id': 296, 'ds_descricao': 'Concluído'}",
         "{'id': 506, 'ds_descricao': 'Patrocinador'}",
         "{'id': 723, 'ds_descricao': 'Sorrento Therapeutics, Inc.'}",
         "{'id': 748, 'ds_descricao': 'Synova'}",
         "{'id': 154, 'ds_descricao': 'Experimental'}",
         "{'id': 315, 'ds_descricao': 'Infectologia'}",
         "{'id': 136, 'ds_descricao': 'Oral'}",
         "{'id': 380, 'ds_descricao': 'Não'}",
         "{'id': 60, 'ds_descricao': 'Sim'}",
         "{'id': 60, 'ds_descricao': 'Sim'}",
         "{'id': 60, 'ds_descricao': 'Sim'}",
         "{'id': 2, 'descricao': 'Leforte Liberdade'}",
         "{'id': 199, 'ds_nome': 'Dra. Caroline Cândida Carvalho de Oliveira'}",
         "{'id': 310, 'ds_nome': 'Isabel Cristina dos Santos'}",
         "{'id': 227, 'ds_nome': 'Viviane Santana da Silva'}",
         "{'id': 214, 'ds_nome': 'Priscila do Prado Costa'}",
         "{'id': 122, 'ds_descricao': 'Fase II'}",
         "{'id': 296, 'ds_descricao': 'Concluído'}",
         "{'id': 506, 'ds_descricao': 'Patrocinador'}",
         "{'id': 723, 'ds_descricao': 'Sorrento Therapeutics, Inc.'}"
        ]
       ],
       "shape": {
        "columns": 124,
        "rows": 2
       }
      },
      "text/html": [
       "<div>\n",
       "<style scoped>\n",
       "    .dataframe tbody tr th:only-of-type {\n",
       "        vertical-align: middle;\n",
       "    }\n",
       "\n",
       "    .dataframe tbody tr th {\n",
       "        vertical-align: top;\n",
       "    }\n",
       "\n",
       "    .dataframe thead th {\n",
       "        text-align: right;\n",
       "    }\n",
       "</style>\n",
       "<table border=\"1\" class=\"dataframe\">\n",
       "  <thead>\n",
       "    <tr style=\"text-align: right;\">\n",
       "      <th></th>\n",
       "      <th>id</th>\n",
       "      <th>titulo_protocolo</th>\n",
       "      <th>cor_agenda</th>\n",
       "      <th>numero_protocolo</th>\n",
       "      <th>apelido_protocolo</th>\n",
       "      <th>coordenador</th>\n",
       "      <th>pi</th>\n",
       "      <th>pesquisador_backup</th>\n",
       "      <th>co_pessoa_regulatorio</th>\n",
       "      <th>data_cadastro</th>\n",
       "      <th>...</th>\n",
       "      <th>dados_aprovacao_cep</th>\n",
       "      <th>dados_co_centro</th>\n",
       "      <th>PessoaPI</th>\n",
       "      <th>PessoaCoordenador</th>\n",
       "      <th>PessoaPesquisador</th>\n",
       "      <th>PessoaRegulatorio</th>\n",
       "      <th>fase_pesquisa</th>\n",
       "      <th>status</th>\n",
       "      <th>tipo_iniciativa</th>\n",
       "      <th>nome_patrocinador</th>\n",
       "    </tr>\n",
       "  </thead>\n",
       "  <tbody>\n",
       "    <tr>\n",
       "      <th>0</th>\n",
       "      <td>4</td>\n",
       "      <td>ENSAIO CLÍNICO FASE 2, RANDOMIZADO, DUPLO-CEGO...</td>\n",
       "      <td>#330eb9</td>\n",
       "      <td>BTK-COV-202BR</td>\n",
       "      <td>BTK</td>\n",
       "      <td>261.0</td>\n",
       "      <td>306.0</td>\n",
       "      <td>210.0</td>\n",
       "      <td>214.0</td>\n",
       "      <td>2021-04-05T18:37:50.000Z</td>\n",
       "      <td>...</td>\n",
       "      <td>{'id': 60, 'ds_descricao': 'Sim'}</td>\n",
       "      <td>{'id': 3, 'descricao': 'Leforte HMCG'}</td>\n",
       "      <td>{'id': 306, 'ds_nome': 'Dr. Carlos Augusto Qua...</td>\n",
       "      <td>{'id': 261, 'ds_nome': 'Giovana Rosas'}</td>\n",
       "      <td>None</td>\n",
       "      <td>{'id': 214, 'ds_nome': 'Priscila do Prado Costa'}</td>\n",
       "      <td>{'id': 123, 'ds_descricao': 'Fase III'}</td>\n",
       "      <td>{'id': 296, 'ds_descricao': 'Concluído'}</td>\n",
       "      <td>{'id': 506, 'ds_descricao': 'Patrocinador'}</td>\n",
       "      <td>{'id': 723, 'ds_descricao': 'Sorrento Therapeu...</td>\n",
       "    </tr>\n",
       "    <tr>\n",
       "      <th>1</th>\n",
       "      <td>5</td>\n",
       "      <td>ENSAIO CLÍNICO FASE 2, RANDOMIZADO, DUPLO-CEGO...</td>\n",
       "      <td>#330eb9</td>\n",
       "      <td>BTK-COV-202BR</td>\n",
       "      <td>BTK</td>\n",
       "      <td>310.0</td>\n",
       "      <td>199.0</td>\n",
       "      <td>227.0</td>\n",
       "      <td>214.0</td>\n",
       "      <td>2021-07-07T12:28:33.000Z</td>\n",
       "      <td>...</td>\n",
       "      <td>{'id': 60, 'ds_descricao': 'Sim'}</td>\n",
       "      <td>{'id': 2, 'descricao': 'Leforte Liberdade'}</td>\n",
       "      <td>{'id': 199, 'ds_nome': 'Dra. Caroline Cândida ...</td>\n",
       "      <td>{'id': 310, 'ds_nome': 'Isabel Cristina dos Sa...</td>\n",
       "      <td>{'id': 227, 'ds_nome': 'Viviane Santana da Sil...</td>\n",
       "      <td>{'id': 214, 'ds_nome': 'Priscila do Prado Costa'}</td>\n",
       "      <td>{'id': 122, 'ds_descricao': 'Fase II'}</td>\n",
       "      <td>{'id': 296, 'ds_descricao': 'Concluído'}</td>\n",
       "      <td>{'id': 506, 'ds_descricao': 'Patrocinador'}</td>\n",
       "      <td>{'id': 723, 'ds_descricao': 'Sorrento Therapeu...</td>\n",
       "    </tr>\n",
       "  </tbody>\n",
       "</table>\n",
       "<p>2 rows × 124 columns</p>\n",
       "</div>"
      ],
      "text/plain": [
       "   id                                   titulo_protocolo cor_agenda  \\\n",
       "0   4  ENSAIO CLÍNICO FASE 2, RANDOMIZADO, DUPLO-CEGO...    #330eb9   \n",
       "1   5  ENSAIO CLÍNICO FASE 2, RANDOMIZADO, DUPLO-CEGO...    #330eb9   \n",
       "\n",
       "  numero_protocolo apelido_protocolo  coordenador     pi  pesquisador_backup  \\\n",
       "0    BTK-COV-202BR               BTK        261.0  306.0               210.0   \n",
       "1    BTK-COV-202BR               BTK        310.0  199.0               227.0   \n",
       "\n",
       "   co_pessoa_regulatorio             data_cadastro  ...  \\\n",
       "0                  214.0  2021-04-05T18:37:50.000Z  ...   \n",
       "1                  214.0  2021-07-07T12:28:33.000Z  ...   \n",
       "\n",
       "                 dados_aprovacao_cep  \\\n",
       "0  {'id': 60, 'ds_descricao': 'Sim'}   \n",
       "1  {'id': 60, 'ds_descricao': 'Sim'}   \n",
       "\n",
       "                               dados_co_centro  \\\n",
       "0       {'id': 3, 'descricao': 'Leforte HMCG'}   \n",
       "1  {'id': 2, 'descricao': 'Leforte Liberdade'}   \n",
       "\n",
       "                                            PessoaPI  \\\n",
       "0  {'id': 306, 'ds_nome': 'Dr. Carlos Augusto Qua...   \n",
       "1  {'id': 199, 'ds_nome': 'Dra. Caroline Cândida ...   \n",
       "\n",
       "                                   PessoaCoordenador  \\\n",
       "0            {'id': 261, 'ds_nome': 'Giovana Rosas'}   \n",
       "1  {'id': 310, 'ds_nome': 'Isabel Cristina dos Sa...   \n",
       "\n",
       "                                   PessoaPesquisador  \\\n",
       "0                                               None   \n",
       "1  {'id': 227, 'ds_nome': 'Viviane Santana da Sil...   \n",
       "\n",
       "                                   PessoaRegulatorio  \\\n",
       "0  {'id': 214, 'ds_nome': 'Priscila do Prado Costa'}   \n",
       "1  {'id': 214, 'ds_nome': 'Priscila do Prado Costa'}   \n",
       "\n",
       "                             fase_pesquisa  \\\n",
       "0  {'id': 123, 'ds_descricao': 'Fase III'}   \n",
       "1   {'id': 122, 'ds_descricao': 'Fase II'}   \n",
       "\n",
       "                                     status  \\\n",
       "0  {'id': 296, 'ds_descricao': 'Concluído'}   \n",
       "1  {'id': 296, 'ds_descricao': 'Concluído'}   \n",
       "\n",
       "                               tipo_iniciativa  \\\n",
       "0  {'id': 506, 'ds_descricao': 'Patrocinador'}   \n",
       "1  {'id': 506, 'ds_descricao': 'Patrocinador'}   \n",
       "\n",
       "                                   nome_patrocinador  \n",
       "0  {'id': 723, 'ds_descricao': 'Sorrento Therapeu...  \n",
       "1  {'id': 723, 'ds_descricao': 'Sorrento Therapeu...  \n",
       "\n",
       "[2 rows x 124 columns]"
      ]
     },
     "execution_count": 6,
     "metadata": {},
     "output_type": "execute_result"
    }
   ],
   "source": [
    "protocolo_url = urljoin(api_url, \"/protocolo?nested=true\")\n",
    "headers = {\"Authorization\": auth_token}\n",
    "\n",
    "response = requests.get(protocolo_url, headers=headers)\n",
    "protocolo = response.json()\n",
    "protocolo = pd.DataFrame(protocolo)\n",
    "protocolo.head(2)"
   ]
  },
  {
   "cell_type": "code",
   "execution_count": 7,
   "metadata": {},
   "outputs": [],
   "source": [
    "css_hover = \"\"\"\n",
    "<style>\n",
    "    table {\n",
    "        border-collapse: collapse;\n",
    "        width: 100%;\n",
    "        font-family: Arial, sans-serif;\n",
    "        font-size: 14px;\n",
    "        border-radius: 8px;\n",
    "        overflow: hidden; /* Para manter o arredondamento no hover */\n",
    "        box-shadow: 0 2px 8px rgba(0,0,0,0.1);\n",
    "    }\n",
    "    th, td {\n",
    "        padding: 10px 14px;\n",
    "        text-align: left;\n",
    "        border-bottom: 1px solid #ddd;\n",
    "    }\n",
    "    th {\n",
    "        background-color: #007bff;\n",
    "        color: white;\n",
    "        font-weight: 600;\n",
    "    }\n",
    "    tr:nth-child(even) {\n",
    "        background-color: #f9f9f9;\n",
    "    }\n",
    "    tr:hover {\n",
    "        background-color: #eaf3ff;\n",
    "        transition: background-color 0.2s ease-in-out;\n",
    "    }\n",
    "</style>\n",
    "\"\"\""
   ]
  },
  {
   "cell_type": "code",
   "execution_count": 8,
   "metadata": {},
   "outputs": [
    {
     "data": {
      "application/vnd.microsoft.datawrangler.viewer.v0+json": {
       "columns": [
        {
         "name": "index",
         "rawType": "int64",
         "type": "integer"
        },
        {
         "name": "id",
         "rawType": "int64",
         "type": "integer"
        },
        {
         "name": "apelido_protocolo",
         "rawType": "object",
         "type": "string"
        },
        {
         "name": "numero_protocolo",
         "rawType": "object",
         "type": "string"
        },
        {
         "name": "co_externo",
         "rawType": "object",
         "type": "unknown"
        },
        {
         "name": "apelido_centro",
         "rawType": "object",
         "type": "string"
        }
       ],
       "ref": "fe9e4259-000e-44a2-9463-e7d33ce4a3a9",
       "rows": [
        [
         "0",
         "4",
         "BTK",
         "BTK-COV-202BR",
         "BTK-COV-202BR",
         "BTK - Leforte HMCG"
        ],
        [
         "1",
         "5",
         "BTK",
         "BTK-COV-202BR",
         "BTK-COV-202BR",
         "BTK - Leforte Liberdade"
        ],
        [
         "2",
         "8",
         "RIGEL-FOCUS",
         "C-935788-061",
         "C-935788-061",
         "RIGEL-FOCUS - Leforte Liberdade"
        ],
        [
         "3",
         "9",
         "BIOTEST-998",
         "ESsCOVID-998",
         null,
         "BIOTEST-998 - Leforte HMCG"
        ],
        [
         "4",
         "10",
         "GARDEN",
         "ACT-CS-006",
         "ACT-CS-006",
         "GARDEN - Leforte HMCG"
        ],
        [
         "5",
         "11",
         "DEFLECT",
         "MPZ-II-02",
         "MPZ-II-02",
         "DEFLECT - Maternidade e Cirurgia Nossa Senhora do Rocio SA"
        ],
        [
         "6",
         "13",
         "TACTIC-E",
         "TACTIC-E - Morumbi",
         "TACTIC-E",
         "TACTIC-E - Leforte Morumbi"
        ],
        [
         "7",
         "14",
         "READY",
         "CUSA-081-HEM-01 ",
         "CUSA-081-HEM-01",
         "READY - Leforte Liberdade"
        ],
        [
         "8",
         "16",
         "BTK",
         "BTK-COV-202BR",
         "BTK-COV-202BR",
         "BTK - Leforte Morumbi"
        ],
        [
         "9",
         "28",
         "BTK",
         "BTK-COV-202BR",
         "BTK-COV-202BR",
         "BTK - Maternidade e Cirurgia Nossa Senhora do Rocio SA"
        ],
        [
         "10",
         "32",
         "AEGIS",
         "CSL112_3001",
         "CSL112_3001",
         "AEGIS - Leforte HMCG"
        ],
        [
         "11",
         "33",
         "AXIOMATIC-SSP",
         "CV010031",
         "CV010-031",
         "AXIOMATIC-SSP - Leforte HMCG"
        ],
        [
         "12",
         "34",
         "DIA3018",
         " JNJ-28431754",
         "DIA",
         "DIA3018 - Leforte HMCG"
        ],
        [
         "13",
         "35",
         "NODE",
         "NODE-303",
         "NODE-303",
         "NODE - Leforte HMCG"
        ],
        [
         "14",
         "36",
         "EdoBRA",
         "DSBR-EDO-01-19",
         "DSBR-EDO-01-19",
         "EdoBRA - Leforte HMCG"
        ],
        [
         "15",
         "39",
         "CLEAR HMCG",
         "ETC-1002",
         "1002-043",
         "CLEAR HMCG - Leforte HMCG"
        ],
        [
         "16",
         "42",
         "CLEAR Liberdade",
         "ETC-1002",
         "1002-043",
         "CLEAR Liberdade - Leforte Liberdade"
        ],
        [
         "17",
         "50",
         "AVT06-GL-301",
         "AVT06-GL-301",
         null,
         "AVT06-GL-301 - Leforte HMCG"
        ],
        [
         "18",
         "52",
         "Linea - Lisador Duo",
         "INHY014",
         "LISADOR",
         "Linea - Lisador Duo - Hospital Pérola Byington"
        ],
        [
         "19",
         "53",
         "Dipro",
         "DIPRO",
         "DIPRO",
         "Dipro - Hospital Pérola Byington"
        ],
        [
         "20",
         "55",
         "Valeria",
         "Valeria",
         null,
         "Valeria - Hospital Pérola Byington"
        ],
        [
         "21",
         "56",
         "Eiffel",
         "ACH-TND-03(12/14)",
         "ACH-TND-03",
         "Eiffel - Leforte HMCG"
        ],
        [
         "22",
         "58",
         "OSCAR 3",
         "",
         null,
         "OSCAR 3 - Leforte Morumbi"
        ],
        [
         "23",
         "59",
         "VIR-7831-5008",
         "",
         "VIR-7831-5001",
         "VIR-7831-5008 - Leforte Morumbi"
        ],
        [
         "24",
         "62",
         "NN 9535-4321 FLOW",
         "U1111-1217-6259",
         "NN9535-4321",
         "NN 9535-4321 FLOW - Leforte HMCG"
        ],
        [
         "25",
         "63",
         "Perfect",
         "CBAF312ABR01",
         "CBAF312ABR01",
         "Perfect - ABEM - Associação Brasileira de Esclerose Múltipla"
        ],
        [
         "26",
         "64",
         "BTK",
         "BTK-COV-202BR",
         "BTK-COV-202BR",
         "BTK - Santa Casa de Santos"
        ],
        [
         "27",
         "65",
         "NODE",
         "NODE-303",
         "NODE-303",
         "NODE - Leforte Liberdade"
        ],
        [
         "28",
         "67",
         "Hokusai",
         "DU176b-D-U312",
         "DU176b-D-U312",
         "Hokusai - Leforte HMCG"
        ],
        [
         "29",
         "69",
         "TACTIC-E",
         "TACTIC-E - HMCG ",
         "TACTIC-E",
         "TACTIC-E - Leforte HMCG"
        ],
        [
         "30",
         "71",
         "GT 0918",
         "GT0918-MR-3001",
         "GT-0918",
         "GT 0918 - Leforte HMCG"
        ],
        [
         "31",
         "72",
         "COMPASS CLAUDICATION",
         "COMPASS CLAUDICATION",
         "BR13532096740K",
         "COMPASS CLAUDICATION - Leforte Liberdade"
        ],
        [
         "32",
         "75",
         "READY",
         "CUSA-081-HEM-01 ",
         "CUSA-081-HEM-01",
         "READY - Santa casa de São Paulo"
        ],
        [
         "33",
         "76",
         "COMPASS CLAUDICATION",
         "COMPASS CLAUDICATION",
         "BR13532096740K",
         "COMPASS CLAUDICATION - Leforte HMCG"
        ],
        [
         "34",
         "77",
         "EdoBRA",
         "DSBR-EDO-01-19",
         "DSBR-EDO-01-19",
         "EdoBRA - Leforte Liberdade"
        ],
        [
         "35",
         "78",
         "AEGIS",
         "CSL112_3001",
         "CSL112_3001",
         "AEGIS - Santa casa de São Paulo"
        ],
        [
         "36",
         "79",
         "Dipro",
         "DIPRO",
         "DIPRO",
         "Dipro - Leforte HMCG"
        ],
        [
         "37",
         "80",
         "HERIZON-BTC-02",
         "ZWI-ZW25-302",
         null,
         "HERIZON-BTC-02 - Santa Casa de Santos"
        ],
        [
         "38",
         "81",
         "NODE",
         "NODE-303",
         "NODE-303",
         "NODE - Santa casa de São Paulo"
        ],
        [
         "39",
         "82",
         "VIR-7831-5008",
         "",
         "VIR-7831-5001",
         "VIR-7831-5008 - Leforte HMCG"
        ],
        [
         "40",
         "83",
         "Granulomatose eosinofílica",
         "",
         null,
         "Granulomatose eosinofílica - Leforte Morumbi"
        ],
        [
         "41",
         "84",
         "Lesão renal aguda relacionada à sepse",
         "",
         null,
         "Lesão renal aguda relacionada à sepse - Leforte Morumbi"
        ],
        [
         "42",
         "85",
         "Gilead",
         "GS-US-540-5912",
         null,
         "Gilead - Leforte HMCG"
        ],
        [
         "43",
         "86",
         "Gilead",
         "GS-US-540-5912",
         null,
         "Gilead - Leforte Morumbi"
        ],
        [
         "44",
         "87",
         "Gilead",
         "GS-US-540-5912",
         null,
         "Gilead - Leforte Liberdade"
        ],
        [
         "45",
         "88",
         "REGEN-006",
         "REGEN-006 (SHAM)",
         null,
         "REGEN-006 - Leforte HMCG"
        ],
        [
         "46",
         "89",
         "Glioblastoma",
         "",
         null,
         "Glioblastoma - Leforte Morumbi"
        ],
        [
         "47",
         "90",
         "MORNINGSKY",
         "CV43043",
         null,
         "MORNINGSKY - Maternidade e Cirurgia Nossa Senhora do Rocio SA"
        ],
        [
         "48",
         "91",
         "Pacientes com alto risco cardiovascular",
         "",
         null,
         "Pacientes com alto risco cardiovascular - Leforte Morumbi"
        ],
        [
         "49",
         "92",
         "COVID leve a moderado para pacientes menores de 18 anos",
         "",
         null,
         "COVID leve a moderado para pacientes menores de 18 anos - Leforte Morumbi"
        ]
       ],
       "shape": {
        "columns": 5,
        "rows": 2341
       }
      },
      "text/html": [
       "<div>\n",
       "<style scoped>\n",
       "    .dataframe tbody tr th:only-of-type {\n",
       "        vertical-align: middle;\n",
       "    }\n",
       "\n",
       "    .dataframe tbody tr th {\n",
       "        vertical-align: top;\n",
       "    }\n",
       "\n",
       "    .dataframe thead th {\n",
       "        text-align: right;\n",
       "    }\n",
       "</style>\n",
       "<table border=\"1\" class=\"dataframe\">\n",
       "  <thead>\n",
       "    <tr style=\"text-align: right;\">\n",
       "      <th></th>\n",
       "      <th>id</th>\n",
       "      <th>apelido_protocolo</th>\n",
       "      <th>numero_protocolo</th>\n",
       "      <th>co_externo</th>\n",
       "      <th>apelido_centro</th>\n",
       "    </tr>\n",
       "  </thead>\n",
       "  <tbody>\n",
       "    <tr>\n",
       "      <th>0</th>\n",
       "      <td>4</td>\n",
       "      <td>BTK</td>\n",
       "      <td>BTK-COV-202BR</td>\n",
       "      <td>BTK-COV-202BR</td>\n",
       "      <td>BTK - Leforte HMCG</td>\n",
       "    </tr>\n",
       "    <tr>\n",
       "      <th>1</th>\n",
       "      <td>5</td>\n",
       "      <td>BTK</td>\n",
       "      <td>BTK-COV-202BR</td>\n",
       "      <td>BTK-COV-202BR</td>\n",
       "      <td>BTK - Leforte Liberdade</td>\n",
       "    </tr>\n",
       "    <tr>\n",
       "      <th>2</th>\n",
       "      <td>8</td>\n",
       "      <td>RIGEL-FOCUS</td>\n",
       "      <td>C-935788-061</td>\n",
       "      <td>C-935788-061</td>\n",
       "      <td>RIGEL-FOCUS - Leforte Liberdade</td>\n",
       "    </tr>\n",
       "    <tr>\n",
       "      <th>3</th>\n",
       "      <td>9</td>\n",
       "      <td>BIOTEST-998</td>\n",
       "      <td>ESsCOVID-998</td>\n",
       "      <td>None</td>\n",
       "      <td>BIOTEST-998 - Leforte HMCG</td>\n",
       "    </tr>\n",
       "    <tr>\n",
       "      <th>4</th>\n",
       "      <td>10</td>\n",
       "      <td>GARDEN</td>\n",
       "      <td>ACT-CS-006</td>\n",
       "      <td>ACT-CS-006</td>\n",
       "      <td>GARDEN - Leforte HMCG</td>\n",
       "    </tr>\n",
       "    <tr>\n",
       "      <th>...</th>\n",
       "      <td>...</td>\n",
       "      <td>...</td>\n",
       "      <td>...</td>\n",
       "      <td>...</td>\n",
       "      <td>...</td>\n",
       "    </tr>\n",
       "    <tr>\n",
       "      <th>2336</th>\n",
       "      <td>2547</td>\n",
       "      <td>Chron e obesidade</td>\n",
       "      <td></td>\n",
       "      <td>None</td>\n",
       "      <td>Chron e obesidade - Clínica CardialMed</td>\n",
       "    </tr>\n",
       "    <tr>\n",
       "      <th>2337</th>\n",
       "      <td>2548</td>\n",
       "      <td>Chron e obesidade</td>\n",
       "      <td></td>\n",
       "      <td>None</td>\n",
       "      <td>Chron e obesidade - Santa Casa de Santos</td>\n",
       "    </tr>\n",
       "    <tr>\n",
       "      <th>2338</th>\n",
       "      <td>2549</td>\n",
       "      <td>Transplante de Rim</td>\n",
       "      <td></td>\n",
       "      <td>None</td>\n",
       "      <td>Transplante de Rim - Maternidade e Cirurgia No...</td>\n",
       "    </tr>\n",
       "    <tr>\n",
       "      <th>2339</th>\n",
       "      <td>2550</td>\n",
       "      <td>R9933-PAD-2394</td>\n",
       "      <td></td>\n",
       "      <td>None</td>\n",
       "      <td>R9933-PAD-2394 - Leforte HMCG</td>\n",
       "    </tr>\n",
       "    <tr>\n",
       "      <th>2340</th>\n",
       "      <td>2551</td>\n",
       "      <td>Oxandrolona</td>\n",
       "      <td></td>\n",
       "      <td>None</td>\n",
       "      <td>Oxandrolona - Centro Vila Olimpia</td>\n",
       "    </tr>\n",
       "  </tbody>\n",
       "</table>\n",
       "<p>2341 rows × 5 columns</p>\n",
       "</div>"
      ],
      "text/plain": [
       "        id   apelido_protocolo numero_protocolo     co_externo  \\\n",
       "0        4                 BTK    BTK-COV-202BR  BTK-COV-202BR   \n",
       "1        5                 BTK    BTK-COV-202BR  BTK-COV-202BR   \n",
       "2        8         RIGEL-FOCUS     C-935788-061   C-935788-061   \n",
       "3        9         BIOTEST-998     ESsCOVID-998           None   \n",
       "4       10              GARDEN       ACT-CS-006     ACT-CS-006   \n",
       "...    ...                 ...              ...            ...   \n",
       "2336  2547   Chron e obesidade                            None   \n",
       "2337  2548   Chron e obesidade                            None   \n",
       "2338  2549  Transplante de Rim                            None   \n",
       "2339  2550      R9933-PAD-2394                            None   \n",
       "2340  2551         Oxandrolona                            None   \n",
       "\n",
       "                                         apelido_centro  \n",
       "0                                    BTK - Leforte HMCG  \n",
       "1                               BTK - Leforte Liberdade  \n",
       "2                       RIGEL-FOCUS - Leforte Liberdade  \n",
       "3                            BIOTEST-998 - Leforte HMCG  \n",
       "4                                 GARDEN - Leforte HMCG  \n",
       "...                                                 ...  \n",
       "2336             Chron e obesidade - Clínica CardialMed  \n",
       "2337           Chron e obesidade - Santa Casa de Santos  \n",
       "2338  Transplante de Rim - Maternidade e Cirurgia No...  \n",
       "2339                      R9933-PAD-2394 - Leforte HMCG  \n",
       "2340                  Oxandrolona - Centro Vila Olimpia  \n",
       "\n",
       "[2341 rows x 5 columns]"
      ]
     },
     "execution_count": 8,
     "metadata": {},
     "output_type": "execute_result"
    }
   ],
   "source": [
    "centros = protocolo[['id','apelido_protocolo', 'numero_protocolo','co_externo','apelido_centro']].copy()\n",
    "centros"
   ]
  },
  {
   "cell_type": "markdown",
   "metadata": {},
   "source": [
    "# VENCIMENTO DE GCP (MODELAGEM E FUNÇÕES DE ENVIO)"
   ]
  },
  {
   "cell_type": "code",
   "execution_count": 9,
   "metadata": {},
   "outputs": [
    {
     "data": {
      "application/vnd.microsoft.datawrangler.viewer.v0+json": {
       "columns": [
        {
         "name": "index",
         "rawType": "int64",
         "type": "integer"
        },
        {
         "name": "dt_ultimo_certificado_gcp",
         "rawType": "object",
         "type": "unknown"
        },
        {
         "name": "ds_nome",
         "rawType": "object",
         "type": "string"
        },
        {
         "name": "dados_centro_descricao",
         "rawType": "object",
         "type": "unknown"
        },
        {
         "name": "tipo_gn",
         "rawType": "object",
         "type": "string"
        }
       ],
       "ref": "ad990b04-4205-461f-ac25-2546ed64e815",
       "rows": [
        [
         "0",
         null,
         "Emerson Aredes",
         null,
         "Suporte TI"
        ],
        [
         "1",
         null,
         "Kleber Giungi",
         null,
         "Equipe padrão (adicionada automaticamente para todos os protocolos)"
        ],
        [
         "2",
         null,
         "Suporte Polo Trial",
         null,
         "Suporte"
        ],
        [
         "3",
         "2020-09-28",
         "Dra. Caroline Cândida Carvalho de Oliveira",
         "Leforte HMCG",
         "Pesquisador Principal"
        ],
        [
         "4",
         null,
         "Dra. Tânia Caltabiano",
         "Leforte HMCG",
         "Pesquisador Principal"
        ]
       ],
       "shape": {
        "columns": 4,
        "rows": 5
       }
      },
      "text/html": [
       "<div>\n",
       "<style scoped>\n",
       "    .dataframe tbody tr th:only-of-type {\n",
       "        vertical-align: middle;\n",
       "    }\n",
       "\n",
       "    .dataframe tbody tr th {\n",
       "        vertical-align: top;\n",
       "    }\n",
       "\n",
       "    .dataframe thead th {\n",
       "        text-align: right;\n",
       "    }\n",
       "</style>\n",
       "<table border=\"1\" class=\"dataframe\">\n",
       "  <thead>\n",
       "    <tr style=\"text-align: right;\">\n",
       "      <th></th>\n",
       "      <th>dt_ultimo_certificado_gcp</th>\n",
       "      <th>ds_nome</th>\n",
       "      <th>dados_centro_descricao</th>\n",
       "      <th>tipo_gn</th>\n",
       "    </tr>\n",
       "  </thead>\n",
       "  <tbody>\n",
       "    <tr>\n",
       "      <th>0</th>\n",
       "      <td>None</td>\n",
       "      <td>Emerson Aredes</td>\n",
       "      <td>None</td>\n",
       "      <td>Suporte TI</td>\n",
       "    </tr>\n",
       "    <tr>\n",
       "      <th>1</th>\n",
       "      <td>None</td>\n",
       "      <td>Kleber Giungi</td>\n",
       "      <td>None</td>\n",
       "      <td>Equipe padrão (adicionada automaticamente para...</td>\n",
       "    </tr>\n",
       "    <tr>\n",
       "      <th>2</th>\n",
       "      <td>None</td>\n",
       "      <td>Suporte Polo Trial</td>\n",
       "      <td>None</td>\n",
       "      <td>Suporte</td>\n",
       "    </tr>\n",
       "    <tr>\n",
       "      <th>3</th>\n",
       "      <td>2020-09-28</td>\n",
       "      <td>Dra. Caroline Cândida Carvalho de Oliveira</td>\n",
       "      <td>Leforte HMCG</td>\n",
       "      <td>Pesquisador Principal</td>\n",
       "    </tr>\n",
       "    <tr>\n",
       "      <th>4</th>\n",
       "      <td>None</td>\n",
       "      <td>Dra. Tânia Caltabiano</td>\n",
       "      <td>Leforte HMCG</td>\n",
       "      <td>Pesquisador Principal</td>\n",
       "    </tr>\n",
       "  </tbody>\n",
       "</table>\n",
       "</div>"
      ],
      "text/plain": [
       "  dt_ultimo_certificado_gcp                                     ds_nome  \\\n",
       "0                      None                              Emerson Aredes   \n",
       "1                      None                               Kleber Giungi   \n",
       "2                      None                          Suporte Polo Trial   \n",
       "3                2020-09-28  Dra. Caroline Cândida Carvalho de Oliveira   \n",
       "4                      None                       Dra. Tânia Caltabiano   \n",
       "\n",
       "  dados_centro_descricao                                            tipo_gn  \n",
       "0                   None                                         Suporte TI  \n",
       "1                   None  Equipe padrão (adicionada automaticamente para...  \n",
       "2                   None                                            Suporte  \n",
       "3           Leforte HMCG                              Pesquisador Principal  \n",
       "4           Leforte HMCG                              Pesquisador Principal  "
      ]
     },
     "execution_count": 9,
     "metadata": {},
     "output_type": "execute_result"
    }
   ],
   "source": [
    "gcp = pessoas[['dados_centro', 'dt_ultimo_certificado_gcp', 'ds_nome','dados_co_tipo_gn']].copy()\n",
    "gcp.loc[:, 'dados_centro_id'] = gcp['dados_centro'].apply(lambda x: x['id'] if x is not None else None)\n",
    "gcp.loc[:, 'dados_centro_descricao'] = gcp['dados_centro'].apply(lambda x: x['descricao'] if x is not None else None)\n",
    "gcp.loc[:, 'tipo_gn'] = gcp['dados_co_tipo_gn'].apply(lambda x: x['ds_descricao'] if x is not None else None)\n",
    "\n",
    "gcp_modelado = gcp.drop(['dados_centro', 'dados_centro_id', 'dados_co_tipo_gn'], axis=1)\n",
    "gcp_modelado.head(5)"
   ]
  },
  {
   "cell_type": "code",
   "execution_count": 10,
   "metadata": {},
   "outputs": [],
   "source": [
    "def verificar_vencimento_contratos(df_contratos, nome_centro, dias_para_vencimento=30):\n",
    "\n",
    "    df_contratos['Assinatura do GCP'] = pd.to_datetime(df_contratos['Assinatura do GCP'], errors='coerce')\n",
    "\n",
    "    hoje = datetime.today()\n",
    "    limite_vencimento = hoje + timedelta(days=dias_para_vencimento)\n",
    "\n",
    "    df_contratos['data_vencimento'] = df_contratos['Assinatura do GCP'] + timedelta(days=2 * 365)\n",
    "\n",
    "    filtro_vencendo = (df_contratos['data_vencimento'] > hoje) & (df_contratos['data_vencimento'] <= limite_vencimento)\n",
    "\n",
    "    filtro_sem_data = df_contratos['Assinatura do GCP'].isna()\n",
    "\n",
    "    contratos_relevantes = df_contratos[filtro_vencendo | filtro_sem_data]\n",
    "\n",
    "    if contratos_relevantes.empty:\n",
    "        print(f\"🔹 Não há contratos GCP sem data registrada no sistema ou com vencimento nos próximos {dias_para_vencimento} dias para {nome_centro}.\")\n",
    "    else:\n",
    "        print(f\"⚠️ Contratos GCP sem data registrada no sistema e/ou com vencimento nos próximos {dias_para_vencimento} dias para {nome_centro}:\")\n",
    "        print(contratos_relevantes[['Centro', 'Nome', 'Assinatura do GCP', 'data_vencimento']])\n",
    "\n",
    "    return contratos_relevantes"
   ]
  },
  {
   "cell_type": "code",
   "execution_count": 11,
   "metadata": {},
   "outputs": [],
   "source": [
    "def filtrar_centros(df, lista_centros):\n",
    "\n",
    "    filtro = df['dados_centro_descricao'].isin(lista_centros)\n",
    "    centro_filtrado = df[filtro]\n",
    "    resultado = centro_filtrado[centro_filtrado['tipo_gn'] != 'Equipe padrão (adicionada automaticamente para todos os protocolos)']\n",
    "    \n",
    "    resultado = resultado.rename(columns={\n",
    "        'dt_ultimo_certificado_gcp': 'Assinatura do GCP',\n",
    "        'ds_nome': 'Nome',\n",
    "        'dados_centro_descricao': 'Centro',\n",
    "        'tipo_gn': 'Função'\n",
    "    })\n",
    "    \n",
    "    nova_ordem = ['Centro', 'Nome', 'Função', 'Assinatura do GCP']\n",
    "    return resultado[nova_ordem]\n",
    "\n",
    "\n",
    "# Agora você pode chamar a função para cada grupo de centros:\n",
    "hmcg = ['Leforte HMCG','Leforte Morumbi','Hospital Municipal de Barueri', 'Leforte Liberdade', 'Clinica CardialMed']\n",
    "venc_gcp_hmcg = filtrar_centros(gcp_modelado, hmcg)\n",
    "\n",
    "rocio = ['Maternidade e Cirurgia Nossa Senhora do Rocio SA']\n",
    "venc_gcp_rocio = filtrar_centros(gcp_modelado, rocio)\n",
    "\n",
    "iir_coord = ['Hospital das Clínicas de Itajubá', 'Saint-Beaute Clinique', 'Hospital Salvalus','Consultório Lopes e Sartorelli', ' Clínica Berger','QualiVida Higienópolis','Endolap Saúde',' Associação Brasileira de Esclerose Múltipla','Centro Vila Olimpia']\n",
    "venc_gcp_iir_coord = filtrar_centros(gcp_modelado, iir_coord)\n",
    "\n",
    "envio_viviane = ['Hospital Pilar','Santa casa de São Paulo','Hospital São Francisco de Ribeirã Preto',\n",
    "    'Hospital Antônio Prudente','Clínica CardialMed','CLINAR - Clínica de Aparelhos Respiratórios',\n",
    "    'Santa Casa de Fortaleza','Hospital Vera Cruz','Hapvida','Unimed Brusque',\n",
    "    'Hospital São José das Doenças Infecciosas','Otorhinus Clínica Médica','Hospital São Francisco de Araraquara',\n",
    "    'Maternidade Octaviano Neves','Clínica Infectologie','Hospital Teresa de Lisieux',\n",
    "    'Hospital RioMar de Belém','Hospital e Maternidade Eugênia Pinheiro',\n",
    "    'Hospital São Francisco Saúde','Hospital do Coração de Campinas','Aliança Cavernoma Brasil',\n",
    "    'Faculdade de Medicina de Ribeirão Preto - USP ','Centro Clínico Zona Sul']\n",
    "venc_gcp_envio_viviane = filtrar_centros(gcp_modelado, envio_viviane)\n",
    "\n",
    "stacasa_santos = ['Santa Casa de Santos']\n",
    "venc_gcp_stacasa_santos = filtrar_centros(gcp_modelado, stacasa_santos)\n",
    "\n",
    "capibaribe = ['Hospital do Capibaribe']\n",
    "venc_gcp_capibaribe = filtrar_centros(gcp_modelado, capibaribe)\n"
   ]
  },
  {
   "cell_type": "code",
   "execution_count": null,
   "metadata": {},
   "outputs": [],
   "source": [
    "contratos_hmcg = verificar_vencimento_contratos(venc_gcp_hmcg, \"HMCG\", dias_para_vencimento=30)\n",
    "contratos_rocio = verificar_vencimento_contratos(venc_gcp_rocio, \"Rocío\", dias_para_vencimento=30)\n",
    "contratos_iir_coord = verificar_vencimento_contratos(venc_gcp_iir_coord, \"IRR COORD\", dias_para_vencimento=30)\n",
    "contratos_vivi = verificar_vencimento_contratos(venc_gcp_envio_viviane, \"Envio Viviane\", dias_para_vencimento=30)\n",
    "contratos_stacsantos = verificar_vencimento_contratos(venc_gcp_stacasa_santos, \"Santa Casa de Santos\", dias_para_vencimento=30)\n",
    "contratos_capiberibe = verificar_vencimento_contratos(venc_gcp_capibaribe, \"Capiberibe\", dias_para_vencimento=30)"
   ]
  },
  {
   "cell_type": "code",
   "execution_count": null,
   "metadata": {},
   "outputs": [],
   "source": [
    "def enviar_email(destinatário,df_tratado):\n",
    "    try:\n",
    "        if df_tratado is None or df_tratado.empty:\n",
    "            print(\"Não há contratos vencidos para enviar por e-mail.\")\n",
    "            return\n",
    "\n",
    "        tabela_html = df_tratado[['Centro', 'Nome', 'Assinatura do GCP', 'data_vencimento']].to_html(\n",
    "            index=False, escape=False, justify=\"left\", border=0, classes=\"table\"\n",
    "        )\n",
    "\n",
    "        msg = MIMEMultipart(\"alternative\")\n",
    "        msg['From'] = email_usuario\n",
    "        msg['To'] = email_usuario\n",
    "        msg['Bcc'] = ', '.join(destinatário)\n",
    "        msg['Subject'] = \"GCP com vencimento nos próximos 30 dias ou sem data informada - \"\n",
    "\n",
    "        body = f\"\"\"\n",
    "        <html>\n",
    "            <head>{css_hover}</head>\n",
    "            <body>\n",
    "                <h2>Vencimento de GCP</h2>\n",
    "                <p>Olá,</p> \n",
    "                <br>\n",
    "                <p>Segue abaixo GCP que vencerão no próximo mês ou sem data informada no sistema:</p>\n",
    "                {tabela_html}\n",
    "                <p>Este email é gerado automaticamente a partir de informações inseridadas na Polo Trial.</p>\n",
    "                <p>Qualquer dúvida, por favor, contate o <strong><span style=\"text-decoration: underline;\">time BI - SVRI</span></strong>.</p>\n",
    "            </body>\n",
    "        </html>\n",
    "        \"\"\"\n",
    "        msg.attach(MIMEText(body, 'html'))\n",
    "\n",
    "        with smtplib.SMTP(smtp_server, email_port\n",
    "    ) as server:\n",
    "            server.starttls()\n",
    "            server.login(email_usuario, email_senha)\n",
    "            server.sendmail(msg)\n",
    "\n",
    "        print(\"E-mail de GCP que já venceram enviado com sucesso!\")\n",
    "    \n",
    "    except Exception as e:\n",
    "        print(f\"Erro ao enviar o e-mail: {e}\")"
   ]
  },
  {
   "cell_type": "code",
   "execution_count": null,
   "metadata": {},
   "outputs": [],
   "source": [
    "enviar_email([destinatario_hmcg], contratos_hmcg)\n",
    "enviar_email([destinatario_rocio], contratos_rocio)\n",
    "enviar_email([destinatario_iir], contratos_iir_coord)\n",
    "enviar_email([destinatario_scs], contratos_stacsantos)\n",
    "enviar_email([destinatario_vivi], contratos_vivi)\n",
    "enviar_email([destinatario_capibaribe], contratos_capiberibe)"
   ]
  },
  {
   "cell_type": "markdown",
   "metadata": {},
   "source": [
    "# VISITAS DE SEGUIMENTO (MODELAGEM E FUNÇÕES DE ENVIO)"
   ]
  },
  {
   "cell_type": "code",
   "execution_count": null,
   "metadata": {},
   "outputs": [],
   "source": [
    "participantes_visita_url = urljoin(api_url, \"/participante_visita?nested=true\")\n",
    "headers = {\"Authorization\": auth_token}\n",
    "\n",
    "response = requests.get(participantes_visita_url, headers=headers)\n",
    "participantes_visita = response.json()\n",
    "participantes_visita = pd.DataFrame(participantes_visita)\n",
    "\n",
    "participantes_visita.head(2)"
   ]
  },
  {
   "cell_type": "code",
   "execution_count": null,
   "metadata": {},
   "outputs": [],
   "source": [
    "seguimento = participantes_visita[['dados_participante', 'data_estimada', 'dados_status', 'dados_visita']].copy()\n",
    "\n",
    "seguimento.loc[:, 'dados_participante_id'] = seguimento['dados_participante'].apply(lambda x: x['id'] if x is not None else None)\n",
    "seguimento.loc[:, 'id_participante'] = seguimento['dados_participante'].apply(lambda x: x['id_participante'] if x is not None else None)\n",
    "seguimento.loc[:, 'dados_protocolo'] = seguimento['dados_participante'].apply(lambda x: x['dados_protocolo'] if x is not None else None)\n",
    "\n",
    "seguimento.loc[:, 'dados_status_id'] = seguimento['dados_status'].apply(lambda x: x['id'] if x is not None else None)\n",
    "seguimento.loc[:, 'ds_descricao'] = seguimento['dados_status'].apply(lambda x: x['ds_descricao'] if x is not None else None)\n",
    "seguimento.loc[:, 'ds_nome_visita'] = seguimento['dados_visita'].apply(lambda x: x['ds_nome_visita'] if x is not None else None)\n",
    "\n",
    "seguimento.loc[:, 'apelido_protocolo'] = seguimento['dados_protocolo'].apply(lambda x: x['apelido_protocolo'] if x is not None else None)\n",
    "seguimento['data_estimada'] = pd.to_datetime(seguimento['data_estimada']).dt.date\n",
    "seguimento.head(2)"
   ]
  },
  {
   "cell_type": "code",
   "execution_count": null,
   "metadata": {},
   "outputs": [],
   "source": [
    "seguimento_tratado = seguimento.drop(['dados_participante','dados_status','id_participante','dados_status_id'], axis=1)\n",
    "seguimento_tratado.loc[:, 'id'] = seguimento['dados_protocolo'].apply(lambda x: x['id'] if x is not None else None)\n",
    "seguimento_tratado.head(2)"
   ]
  },
  {
   "cell_type": "code",
   "execution_count": null,
   "metadata": {},
   "outputs": [],
   "source": [
    "seguimentos = pd.merge(centros, seguimento_tratado, on='id', how='inner')\n",
    "seguimentos"
   ]
  },
  {
   "cell_type": "code",
   "execution_count": null,
   "metadata": {},
   "outputs": [],
   "source": [
    "seguimentos['apelido_protocolo_x'] = seguimentos['apelido_protocolo_x'].str.strip()\n",
    "visitas_filtrado = seguimentos[seguimentos['ds_descricao'].str.contains('Pendente')]\n",
    "nova_ordem = [\"apelido_centro\", \"dados_participante_id\", \"ds_nome_visita\",\"data_estimada\",\"ds_descricao\"]\n",
    "visitas_reordenado = visitas_filtrado[nova_ordem]\n",
    "visitas_reordenado.rename(columns={'apelido_centro':'Estudo/Centro', 'dados_participante_id': 'ID Participante', 'ds_nome_visita': 'Tipo Visita',\n",
    "                          'data_estimada':'Data Estimada', 'ds_descricao':'Status'}, inplace=True)\n",
    "visitas_reordenado"
   ]
  },
  {
   "cell_type": "code",
   "execution_count": null,
   "metadata": {},
   "outputs": [],
   "source": [
    "datas_visitas = visitas_reordenado.dropna(subset=[\"Data Estimada\"])\n",
    "datas_visitas = datas_visitas.sort_values(by= \"Data Estimada\", ascending=True)\n",
    "datas_visitas = datas_visitas[~datas_visitas[\"Tipo Visita\"].isin([\"Unscheduled\", \"Triagem\", \"End of Study\"])]\n",
    "valores_contagem = datas_visitas['Tipo Visita'].value_counts()\n",
    "datas_visitas"
   ]
  },
  {
   "cell_type": "code",
   "execution_count": null,
   "metadata": {},
   "outputs": [],
   "source": [
    "def verificar_visitas_proximos_dias(datas_visitas, dias_para_visita=20):\n",
    "    datas_visitas['Data Estimada'] = pd.to_datetime(datas_visitas['Data Estimada'])\n",
    "    \n",
    "    hoje = datetime.today()\n",
    "    limite_visita = hoje + timedelta(days=dias_para_visita)\n",
    "    \n",
    "    visitas_futuras = datas_visitas[\n",
    "        (datas_visitas['Data Estimada'] >= hoje) & \n",
    "        (datas_visitas['Data Estimada'] <= limite_visita)\n",
    "    ]\n",
    "    \n",
    "    if visitas_futuras.empty:\n",
    "        print(f\"Não há visitas programadas para os próximos {dias_para_visita} dias.\")\n",
    "    else:\n",
    "        print(f\"Visitas programadas para os próximos {dias_para_visita} dias:\")\n",
    "        print(visitas_futuras[['Estudo/Centro', 'ID Participante', 'Tipo Visita', 'Data Estimada','Status']])\n",
    "    \n",
    "    return visitas_futuras\n",
    "\n",
    "visitas_20_dias = verificar_visitas_proximos_dias(datas_visitas, dias_para_visita=20)\n",
    "# próximas_visitas = visitas_20_dias.drop(['dados_visita'], axis=1)\n",
    "# próximas_visitas.head(2)"
   ]
  },
  {
   "cell_type": "code",
   "execution_count": null,
   "metadata": {},
   "outputs": [],
   "source": [
    "def enviar_emails(próximas_visitas):\n",
    "    global enviar_para  # Acessa a variável global 'enviar_para'\n",
    "    \n",
    "    try:\n",
    "        if próximas_visitas is None or próximas_visitas.empty:\n",
    "            print(\"Não há visitas nos próximos dias para enviar por e-mail.\")\n",
    "            return\n",
    "\n",
    "        colunas_esperadas = {'Estudo/Centro', 'ID Participante', 'Tipo Visita', 'Data Estimada', 'Status'}\n",
    "        if not colunas_esperadas.issubset(próximas_visitas.columns):\n",
    "            print(\"Erro: DataFrame não contém todas as colunas esperadas.\")\n",
    "            return\n",
    "\n",
    "        if not all([smtp_server, email_usuario, email_senha, email_port]):\n",
    "            print(\"Erro: Configurações de e-mail estão incompletas.\")\n",
    "            return\n",
    "\n",
    "        # Validação de e-mails com regex\n",
    "        email_regex = r'^[\\w\\.-]+@[\\w\\.-]+\\.\\w+$'\n",
    "        if isinstance(enviar_para, list):\n",
    "            enviar_para = [email.strip() for email in enviar_para if email.strip() and re.match(email_regex, email.strip())]\n",
    "        else:\n",
    "            enviar_para = []\n",
    "\n",
    "        # Criação da tabela HTML\n",
    "        tabela_html = próximas_visitas[list(colunas_esperadas)].to_html(\n",
    "            index=False, escape=False, justify=\"left\", border=0, classes=\"table\"\n",
    "        )\n",
    "\n",
    "        # Montagem da mensagem\n",
    "        msg = MIMEMultipart(\"alternative\")\n",
    "        msg['From'] = email_usuario\n",
    "        msg['To'] = email_usuario\n",
    "        msg['Subject'] = \"Visitas de Seguimento - próximos 20 dias\"\n",
    "        \n",
    "        # Define o campo BCC apenas se houver destinatários válidos\n",
    "        if enviar_para:\n",
    "            msg['Bcc'] = ', '.join(enviar_para)\n",
    "\n",
    "        body = f\"\"\"\n",
    "        <html>\n",
    "            <head>{css_hover}</head>\n",
    "            <body>\n",
    "                <p>Olá,</p>\n",
    "                <p>Segue abaixo lista com visitas de seguimento programadas para os próximos 20 dias.</p>\n",
    "                {tabela_html}\n",
    "                <p>Este email é gerado automaticamente a partir de informações inseridas na Polo Trial.</p>\n",
    "                <p>Qualquer dúvida, por favor, contate o <strong><span style=\"text-decoration: underline;\">time BI - SVRI</span></strong>.</p>\n",
    "            </body>\n",
    "        </html>\n",
    "        \"\"\"\n",
    "        msg.attach(MIMEText(body, 'html'))\n",
    "\n",
    "        # Envio de e-mail\n",
    "        with smtplib.SMTP(smtp_server, email_port) as server:\n",
    "            server.starttls()\n",
    "            server.login(email_usuario, email_senha)\n",
    "            \n",
    "            # Lista final de destinatários\n",
    "            destinatarios = [email_usuario] + enviar_para\n",
    "            if destinatarios:\n",
    "                server.sendmail(email_usuario, destinatarios, msg.as_string())\n",
    "                print(\"E-mail de visitas pendentes enviado com sucesso!\")\n",
    "            else:\n",
    "                print(\"Nenhum destinatário válido. E-mail não enviado.\")\n",
    "\n",
    "    except Exception as e:\n",
    "        print(f\"Erro ao enviar o e-mail: {e}\")\n",
    "\n",
    "# Chamada da função\n",
    "enviar_emails(visitas_20_dias)"
   ]
  },
  {
   "cell_type": "markdown",
   "metadata": {},
   "source": [
    "# VISITAS DE MONITORIA (MODELAGEM E FUNÇÃO ENVIO DE EMAIL)"
   ]
  },
  {
   "cell_type": "code",
   "execution_count": null,
   "metadata": {},
   "outputs": [],
   "source": [
    "agenda_url = urljoin(api_url, \"/agenda?nested=true\")\n",
    "headers = {\"Authorization\": auth_token}\n",
    "\n",
    "response = requests.get(agenda_url, headers=headers)\n",
    "agenda = response.json()\n",
    "agenda = pd.DataFrame(agenda)\n",
    "\n",
    "agenda.head(2)"
   ]
  },
  {
   "cell_type": "code",
   "execution_count": null,
   "metadata": {},
   "outputs": [],
   "source": [
    "monitoria = agenda[['dados_protocolo', 'dados_tipo', 'dados_status', 'data_estimada_filter']].copy()\n",
    "\n",
    "monitoria.loc[:, 'dados_protocolo_id'] = monitoria['dados_protocolo'].apply(lambda x: x['id'] if x is not None else None)\n",
    "monitoria.loc[:, 'apelido_protocolo'] = monitoria['dados_protocolo'].apply(lambda x: x['apelido_protocolo'] if x is not None else None)\n",
    "\n",
    "monitoria.loc[:, 'dados_tipo_id'] = monitoria['dados_tipo'].apply(lambda x: x['id'] if x is not None else None)\n",
    "monitoria.loc[:, 'dados_tipo_tipo'] = monitoria['dados_tipo'].apply(lambda x: x['tipo'] if x is not None else None)\n",
    "\n",
    "monitoria.loc[:, 'dados_status_id'] = monitoria['dados_status'].apply(lambda x: x['id'] if x is not None else None)\n",
    "monitoria.loc[:, 'ds_descricao'] = monitoria['dados_status'].apply(lambda x: x['ds_descricao'] if x is not None else None)\n",
    "\n",
    "monitoria = monitoria.drop(['dados_protocolo','dados_status', 'dados_tipo_id','dados_status_id'], axis=1)\n",
    "monitoria.rename(columns={'dados_protocolo_id': 'id'}, inplace=True)\n",
    "\n",
    "monitoria.head(2)"
   ]
  },
  {
   "cell_type": "code",
   "execution_count": null,
   "metadata": {},
   "outputs": [],
   "source": [
    "monitorias = pd.merge(centros, monitoria, on='id', how='inner')\n",
    "monitorias"
   ]
  },
  {
   "cell_type": "code",
   "execution_count": null,
   "metadata": {},
   "outputs": [],
   "source": [
    "monitorias_filtrado = monitorias[monitorias['dados_tipo_tipo'].str.contains('Monitoria')]\n",
    "monitorias_filtrado['apelido_protocolo_x'] = monitorias_filtrado['apelido_protocolo_x'].str.strip()\n",
    "monitorias_filtrado"
   ]
  },
  {
   "cell_type": "code",
   "execution_count": null,
   "metadata": {},
   "outputs": [],
   "source": [
    "def verificar_monitorias_pendentes():\n",
    "    monitorias_filtrado.loc[:, 'data_estimada_filter'] = pd.to_datetime(monitorias_filtrado['data_estimada_filter'])\n",
    "    hoje = datetime.today()\n",
    "\n",
    "    monitorias_pendentes = monitorias_filtrado[\n",
    "        (monitorias_filtrado['ds_descricao'] == 'Pendente') &\n",
    "        (monitorias_filtrado['data_estimada_filter'] >= hoje)\n",
    "    ]\n",
    "    monitorias_pendentes = monitorias_pendentes.sort_values(by='data_estimada_filter', ascending=True)\n",
    "\n",
    "    print(monitorias_pendentes[['dados_tipo_tipo', 'data_estimada_filter', 'apelido_protocolo_x', 'ds_descricao','apelido_centro']])\n",
    "    return monitorias_pendentes\n",
    "\n",
    "schedule.every().monday.at(\"09:00\").do(verificar_monitorias_pendentes)\n",
    "\n",
    "monitorias_pendentes_df = verificar_monitorias_pendentes()"
   ]
  },
  {
   "cell_type": "code",
   "execution_count": null,
   "metadata": {},
   "outputs": [],
   "source": [
    "monitorias_pendentes_df.rename(columns={'apelido_centro':'Estudo/Centro', 'dados_tipo_tipo': 'Monitoria', 'data_estimada_filter': 'Data Estimada',\n",
    "                                        'ds_descricao': 'Status'}, inplace=True)\n",
    "monitorias_pendentes_df"
   ]
  },
  {
   "cell_type": "code",
   "execution_count": null,
   "metadata": {},
   "outputs": [],
   "source": [
    "def enviar_emails(monitorias_pendentes_df):\n",
    "    global envio_para\n",
    "    try:\n",
    "        if monitorias_pendentes_df is None or monitorias_pendentes_df.empty:\n",
    "            print(\"Não há visitas nos próximos dias para enviar por e-mail.\")\n",
    "            return\n",
    "\n",
    "        tabela_html = monitorias_pendentes_df[['Estudo/Centro', 'Monitoria', 'Data Estimada', 'Status']].to_html(\n",
    "            index=False, escape=False, justify=\"left\", border=0, classes=\"table\"\n",
    "        )\n",
    "\n",
    "        msg = MIMEMultipart(\"alternative\")\n",
    "        msg['From'] = email_usuario\n",
    "        msg['To'] = email_usuario\n",
    "        msg['Subject'] = \"Visitas de Monitoria Pendentes\"\n",
    "\n",
    "        # Validação da lista de destinatários\n",
    "        if isinstance(envio_para, list):\n",
    "            # Expressão regex para validar e-mails\n",
    "            email_regex = r'^[\\w\\.-]+@[\\w\\.-]+\\.\\w+$'\n",
    "            envio_para = [email.strip() for email in envio_para if email.strip() and re.match(email_regex, email.strip())]\n",
    "        else:\n",
    "            envio_para = []\n",
    "\n",
    "        # Verifica se há destinatários antes de enviar\n",
    "        destinatarios = [email_usuario] + envio_para\n",
    "        if not destinatarios:\n",
    "            print(\"Nenhum destinatário válido encontrado. O e-mail não foi enviado.\")\n",
    "            return\n",
    "\n",
    "        # Somente adiciona Bcc se houver destinatários válidos\n",
    "        if envio_para:\n",
    "            msg['Bcc'] = ', '.join(envio_para)\n",
    "\n",
    "        body = f\"\"\"\n",
    "        <html>\n",
    "            <head>{css_hover}</head>\n",
    "            <body>\n",
    "                <p>Olá,</p>\n",
    "                <p>Segue abaixo lista com visitas de monitoria programadas para os pr&oacute;ximos dias.</p>\n",
    "                {tabela_html}\n",
    "                <p>Este email é gerado automaticamente a partir de informações inseridas na Polo Trial.</p>\n",
    "                <p>Qualquer dúvida, por favor, contate o <strong><span style=\"text-decoration: underline;\">time BI - SVRI</span></strong>.</p>\n",
    "            </body>\n",
    "        </html>\n",
    "        \"\"\"\n",
    "        msg.attach(MIMEText(body, 'html'))\n",
    "\n",
    "        with smtplib.SMTP(smtp_server, email_port) as server:\n",
    "            server.starttls()\n",
    "            server.login(email_usuario, email_senha)\n",
    "            # Envio corrigido para passar apenas destinatários válidos\n",
    "            server.sendmail(email_usuario, destinatarios, msg.as_string())\n",
    "\n",
    "        print(\"E-mail de visitas pendentes enviado com sucesso!\")\n",
    "\n",
    "    except Exception as e:\n",
    "        print(f\"Erro ao enviar o e-mail: {e}\")\n",
    "\n",
    "# Chamada da função\n",
    "enviar_emails(monitorias_pendentes_df)"
   ]
  }
 ],
 "metadata": {
  "kernelspec": {
   "display_name": "push_campo",
   "language": "python",
   "name": "python3"
  },
  "language_info": {
   "codemirror_mode": {
    "name": "ipython",
    "version": 3
   },
   "file_extension": ".py",
   "mimetype": "text/x-python",
   "name": "python",
   "nbconvert_exporter": "python",
   "pygments_lexer": "ipython3",
   "version": "3.12.4"
  }
 },
 "nbformat": 4,
 "nbformat_minor": 2
}
